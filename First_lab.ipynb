{
  "nbformat": 4,
  "nbformat_minor": 0,
  "metadata": {
    "colab": {
      "provenance": []
    },
    "kernelspec": {
      "name": "python3",
      "display_name": "Python 3"
    },
    "language_info": {
      "name": "python"
    }
  },
  "cells": [
    {
      "cell_type": "markdown",
      "source": [
        "Data  Structure in Python"
      ],
      "metadata": {
        "id": "weS128Md6_SV"
      }
    },
    {
      "cell_type": "markdown",
      "source": [
        "Lists are used to store multiple items in a single variable.Allows duplicate members."
      ],
      "metadata": {
        "id": "clCO7BqnqB58"
      }
    },
    {
      "cell_type": "markdown",
      "source": [
        "List"
      ],
      "metadata": {
        "id": "MbM8ftQop6v-"
      }
    },
    {
      "cell_type": "markdown",
      "source": [
        "Tuple"
      ],
      "metadata": {
        "id": "nPeqTc-XrJfI"
      }
    },
    {
      "cell_type": "markdown",
      "source": [
        "Tuples are used to store multiple items in a single variable. It is unchangeble."
      ],
      "metadata": {
        "id": "48BsWOFHrM21"
      }
    },
    {
      "cell_type": "markdown",
      "source": [
        "Dictionary"
      ],
      "metadata": {
        "id": "LhJfk3AjrjLY"
      }
    },
    {
      "cell_type": "markdown",
      "source": [
        "Dictionaries are used to store data values in key:value pairs."
      ],
      "metadata": {
        "id": "SkYySWGyrlOe"
      }
    },
    {
      "cell_type": "markdown",
      "source": [
        "Q) From a string of characters, count the frequency of each letters."
      ],
      "metadata": {
        "id": "Vl-YAUnS5SGx"
      }
    },
    {
      "cell_type": "code",
      "source": [
        "#my process\n",
        "word = input(\"Enter the word:\")\n",
        "letters =[*word] #this converts the string into the char wise and list out\n",
        "print(letters)\n",
        "frequency ={}\n",
        "for char in letters:\n",
        "  if char in frequency.keys():\n",
        "    frequency[char] +=1\n",
        "  else:\n",
        "    frequency[char] =1\n",
        "print(frequency)"
      ],
      "metadata": {
        "colab": {
          "base_uri": "https://localhost:8080/"
        },
        "id": "ClCxifXRuVG9",
        "outputId": "5185fc57-a350-4537-ee33-6e2099409eec"
      },
      "execution_count": null,
      "outputs": [
        {
          "output_type": "stream",
          "name": "stdout",
          "text": [
            "Enter the word:apple\n",
            "['a', 'p', 'p', 'l', 'e']\n",
            "{'a': 1, 'p': 2, 'l': 1, 'e': 1}\n"
          ]
        }
      ]
    },
    {
      "cell_type": "code",
      "source": [
        "#from chatgpt\n",
        "word = input(\"Enter the word: \")\n",
        "letters = {}\n",
        "for char in word:\n",
        "    if char in letters.keys():\n",
        "        letters[char] += 1\n",
        "    else:\n",
        "        letters[char] = 1\n",
        "print(letters)"
      ],
      "metadata": {
        "colab": {
          "base_uri": "https://localhost:8080/"
        },
        "id": "jMKNkPpJ5ogq",
        "outputId": "b2230fef-47ac-4535-f2bd-1817e16c933e"
      },
      "execution_count": null,
      "outputs": [
        {
          "output_type": "stream",
          "name": "stdout",
          "text": [
            "Enter the word: apple\n",
            "{'a': 1, 'p': 2, 'l': 1, 'e': 1}\n"
          ]
        }
      ]
    },
    {
      "cell_type": "markdown",
      "source": [
        "create a pandas dataframe in numpy and store it in csv and read back with pandas"
      ],
      "metadata": {
        "id": "ueYGjJyUHxHz"
      }
    },
    {
      "cell_type": "code",
      "source": [
        "import numpy as np\n",
        "import pandas as pd\n",
        "data = np.array([['Ram','Shyam','Hari','Kishan'],[20,50,40,70]])\n",
        "data = data.T\n",
        "df = pd.DataFrame(data, columns=['Name', 'Age'])\n",
        "csv_file = 'data.csv'\n",
        "df.to_csv(csv_file, index=False)\n",
        "read_df = pd.read_csv(csv_file)\n",
        "read_df.index = read_df.index + 1\n",
        "print(read_df)"
      ],
      "metadata": {
        "colab": {
          "base_uri": "https://localhost:8080/"
        },
        "id": "jPIV0U6d7hF8",
        "outputId": "a9e37442-dbed-48e0-efae-1624d34c95bd"
      },
      "execution_count": null,
      "outputs": [
        {
          "output_type": "stream",
          "name": "stdout",
          "text": [
            "     Name  Age\n",
            "1     Ram   20\n",
            "2   Shyam   50\n",
            "3    Hari   40\n",
            "4  Kishan   70\n"
          ]
        }
      ]
    }
  ]
}