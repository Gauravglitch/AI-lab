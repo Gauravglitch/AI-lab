Data Structure in Python


List
Lists are used to store multiple items in a single variable.Allows duplicate members.

Tuple
Tuples are used to store multiple items in a single variable. It is unchangeble.

Dictionary
Dictionaries are used to store data values in key:value pairs.

Q) From a string of characters, count the frequency of each letters.

word = input("Enter the word: ")
letters = {}
for char in word:
    if char in letters.keys():
        letters[char] += 1
    else:
        letters[char] = 1
print(letters)

Q)create a pandas dataframe in numpy and store it in csv and read back with pandas

import numpy as np
import pandas as pd
data = np.array([['Ram','Shyam','Hari','Kishan'],[20,50,40,70]])
data = data.T
df = pd.DataFrame(data, columns=['Name', 'Age'])
csv_file = 'data.csv'
df.to_csv(csv_file, index=False)
read_df = pd.read_csv(csv_file)
read_df.index = read_df.index + 1
print(read_df)
